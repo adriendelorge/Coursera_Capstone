{
    "cells": [
        {
            "cell_type": "markdown",
            "metadata": {
                "collapsed": true
            },
            "source": "# Final Project: Paris High-End Restaurant Implementation"
        },
        {
            "cell_type": "markdown",
            "metadata": {},
            "source": "## Introduction/Business Problem\nAs one of the most visited cities in the world, with remarkable venues such as the Champs-Elys\u00e9es (more than 30 million tourists each year), Paris is the epicenter of french tourism and cultural heritage. It is thus no doubt that opening a restaurant in Paris, with its potential for influx, is a choice that must be wisely considered and optimized.\n\nBut outside of the touristical places, Paris is also a city with an inner-urban population of more than 2 million people. In a COVID-19 impacted world, this population represents the major influx for restaurants, where foreign tourists are stuck in their home countries. Given the uncertainty of the virus, relying on this source of revenues seems the safer choice when opening a restaurant in the actual period.\n\nWe thus aim here at providing location tools and inputs for chefs that would wish to open an high-end restaurant in Paris in the COVID-19 context. We will base ourselves on venues exploration possibilities given by Foursquare and on data about revenues in Paris' neighbourhoods (as the objective is to be high-end and thus target the most revenue-intensive part of the population). Several criteria will be taken into account such as presence of other high-end restaurants and its intensity."
        },
        {
            "cell_type": "markdown",
            "metadata": {},
            "source": "## The Data\nFor our problem we used two main sources of data:\n-Foursquare for the data about venues in Paris' neighbourhoods.\n-For neighbourhoods data about the city of Paris, the mayor website has an open data tab for various purposes. A Json file is provided for information about the neighbourhoods of Paris, called \"Arrondissements\" (available at https://opendata.paris.fr/explore/dataset/arrondissements/information/?disjunctive.c_ar&disjunctive.c_arinsee&disjunctive.l_ar&basemap=jawg.dark&location=12,48.89091,2.34678)\n-For the revenues in Paris neighbourhoods we will use an indicator which is the median of the disposable income per consumption unit. We used an official source from the website of the French statistical bureau (Insee) with data from 2007 (available at https://www.insee.fr/fr/statistiques/1405599?geo=DEP-75+COM-75101+COM-75102+COM-75103+COM-75104+COM-75105+COM-75106+COM-75107+COM-75108+COM-75109+COM-75110+COM-75111+COM-75112+COM-75113+COM-75114+COM-75115+COM-75116+COM-75117+COM-75118+COM-75119+COM-75120)."
        }
    ],
    "metadata": {
        "kernelspec": {
            "display_name": "Python 3.7",
            "language": "python",
            "name": "python3"
        },
        "language_info": {
            "codemirror_mode": {
                "name": "ipython",
                "version": 3
            },
            "file_extension": ".py",
            "mimetype": "text/x-python",
            "name": "python",
            "nbconvert_exporter": "python",
            "pygments_lexer": "ipython3",
            "version": "3.7.9"
        }
    },
    "nbformat": 4,
    "nbformat_minor": 1
}